{
 "cells": [
  {
   "cell_type": "markdown",
   "metadata": {},
   "source": [
    "## References:\n",
    "Part of code taken from: https://github.com/keras-team/keras/blob/master/examples/imdb_cnn_lstm.py"
   ]
  },
  {
   "cell_type": "code",
   "execution_count": 4,
   "metadata": {},
   "outputs": [
    {
     "name": "stderr",
     "output_type": "stream",
     "text": [
      "Using TensorFlow backend.\n"
     ]
    }
   ],
   "source": [
    "from keras.preprocessing import sequence\n",
    "from keras.models import Sequential\n",
    "from keras.layers import Dense, Dropout, Activation\n",
    "from keras.layers import Embedding\n",
    "from keras.layers import LSTM, BatchNormalization\n",
    "from keras.layers import Conv1D, MaxPooling1D\n",
    "from keras.datasets import imdb\n",
    "from utils import *\n",
    "import numpy as np\n",
    "from sklearn.model_selection import train_test_split\n",
    "from sklearn.metrics import accuracy_score"
   ]
  },
  {
   "cell_type": "markdown",
   "metadata": {},
   "source": [
    "### Get data and define features"
   ]
  },
  {
   "cell_type": "code",
   "execution_count": 5,
   "metadata": {},
   "outputs": [],
   "source": [
    "#Get raw documents:\n",
    "train, test, labels = getData()\n",
    "train, _X, labels, _Y = train_test_split(train, labels, test_size=0.20, random_state=42)"
   ]
  },
  {
   "cell_type": "code",
   "execution_count": null,
   "metadata": {},
   "outputs": [],
   "source": [
    "#Convert chars to integer:\n",
    "#Use a charcter tokenizer from utils\n",
    "char_tokenizer = Char_tokenizer(train+test+_X)\n",
    "X_train = char_tokenizer.transform(train)\n",
    "X_test = char_tokenizer.transform(test)\n",
    "__X = char_tokenizer.transform(_X)\n",
    "#and one hot encode y:\n",
    "num_of_classes = 12\n",
    "y_train = get1hotY(labels, num_of_classes)\n",
    "__Y = get1hotY(_Y, num_of_classes)"
   ]
  },
  {
   "cell_type": "code",
   "execution_count": 7,
   "metadata": {},
   "outputs": [
    {
     "data": {
      "text/plain": [
       "((26010, 452), (3000, 452), (26010, 12), (6503, 452), (6503, 12))"
      ]
     },
     "execution_count": 7,
     "metadata": {},
     "output_type": "execute_result"
    }
   ],
   "source": [
    "X_train.shape, X_test.shape, y_train.shape, __X.shape, __Y.shape"
   ]
  },
  {
   "cell_type": "code",
   "execution_count": 8,
   "metadata": {},
   "outputs": [],
   "source": [
    "max_features = 27\n",
    "# We are trying to learn the embedding on char level, the intuition behind embedding_size = number of classes\n",
    "# is that I am trying to create embedding for classes.\n",
    "# However I did some empericals expeiments and it turns out that increaing the number of embeddings (50,100)\n",
    "# doesn't help in accuracy  \n",
    "embedding_size = 13\n",
    "max_len = getMaxLen(train+test)\n",
    "num_classes = y_train.shape[1]"
   ]
  },
  {
   "cell_type": "markdown",
   "metadata": {},
   "source": [
    "## Lets model"
   ]
  },
  {
   "cell_type": "markdown",
   "metadata": {},
   "source": [
    "### 1. Original model from keras example with embedding layer at the start"
   ]
  },
  {
   "cell_type": "code",
   "execution_count": 34,
   "metadata": {},
   "outputs": [],
   "source": [
    "def originalModel(max_features, embedding_size, maxlen, num_classes):\n",
    "    \n",
    "    kernel_size = 5\n",
    "    filters = 64\n",
    "    pool_size = 4\n",
    "    lstm_output_size = 200\n",
    "    \n",
    "    model = Sequential()\n",
    "    model.add(Embedding(max_features, embedding_size, input_length=maxlen))\n",
    "    model.add(BatchNormalization())\n",
    "    #model.add(Dropout(0.20))\n",
    "    model.add(Conv1D(filters=filters, kernel_size = 4, padding='valid', activation='relu', strides=1))\n",
    "    model.add(MaxPooling1D(pool_size=2))\n",
    "    model.add(Conv1D(filters=filters, kernel_size = 5, padding='valid', activation='relu', strides=1))\n",
    "    model.add(MaxPooling1D(pool_size=2))\n",
    "    model.add(Conv1D(filters=filters, kernel_size = 6, padding='valid', activation='relu', strides=1))\n",
    "    model.add(MaxPooling1D(pool_size=2))\n",
    "    model.add(Conv1D(filters=filters, kernel_size = 8, padding='valid', activation='relu', strides=1))\n",
    "    model.add(MaxPooling1D(pool_size=2))\n",
    "    model.add(LSTM(lstm_output_size))\n",
    "    model.add(Dense(100))\n",
    "    model.add(Dense(50))\n",
    "    model.add(Dense(num_classes))\n",
    "    model.add(Activation('sigmoid'))\n",
    "    return model"
   ]
  },
  {
   "cell_type": "code",
   "execution_count": 15,
   "metadata": {},
   "outputs": [],
   "source": [
    "from keras.layers import *\n",
    "def f1_score(y_true, y_pred):\n",
    "\n",
    "    # Count positive samples.\n",
    "    c1 = K.sum(K.round(K.clip(y_true * y_pred, 0, 1)))\n",
    "    c2 = K.sum(K.round(K.clip(y_pred, 0, 1)))\n",
    "    c3 = K.sum(K.round(K.clip(y_true, 0, 1)))\n",
    "\n",
    "    # If there are no true samples, fix the F1 score at 0.\n",
    "    if c3 == 0:\n",
    "        return 0\n",
    "\n",
    "    # How many selected items are relevant?\n",
    "    precision = c1 / c2\n",
    "\n",
    "    # How many relevant items are selected?\n",
    "    recall = c1 / c3\n",
    "\n",
    "    # Calculate f1_score\n",
    "    f1_score = 2 * (precision * recall) / (precision + recall)\n",
    "    return f1_score "
   ]
  },
  {
   "cell_type": "code",
   "execution_count": 35,
   "metadata": {},
   "outputs": [
    {
     "name": "stdout",
     "output_type": "stream",
     "text": [
      "Train on 23409 samples, validate on 2601 samples\n",
      "Epoch 1/30\n",
      "23409/23409 [==============================] - 59s 3ms/step - loss: 2.3366 - acc: 0.1587 - f1_score: 0.2084 - val_loss: 2.3234 - val_acc: 0.1684 - val_f1_score: 0.2120\n",
      "Epoch 2/30\n",
      "23409/23409 [==============================] - 59s 3ms/step - loss: 2.1766 - acc: 0.2085 - f1_score: 0.2630 - val_loss: 2.0695 - val_acc: 0.2188 - val_f1_score: 0.2928\n",
      "Epoch 3/30\n",
      "23409/23409 [==============================] - 59s 3ms/step - loss: 1.9817 - acc: 0.2495 - f1_score: 0.3219 - val_loss: 1.9592 - val_acc: 0.2464 - val_f1_score: 0.3228\n",
      "Epoch 4/30\n",
      "23409/23409 [==============================] - 58s 2ms/step - loss: 1.7707 - acc: 0.3379 - f1_score: 0.3630 - val_loss: 1.6253 - val_acc: 0.4195 - val_f1_score: 0.3421\n",
      "Epoch 5/30\n",
      "23409/23409 [==============================] - 58s 2ms/step - loss: 1.5000 - acc: 0.4544 - f1_score: 0.3471 - val_loss: 1.4292 - val_acc: 0.4764 - val_f1_score: 0.3399\n",
      "Epoch 6/30\n",
      "23409/23409 [==============================] - 56s 2ms/step - loss: 1.3355 - acc: 0.5160 - f1_score: 0.3462 - val_loss: 1.2712 - val_acc: 0.5371 - val_f1_score: 0.4249\n",
      "Epoch 7/30\n",
      "23409/23409 [==============================] - 57s 2ms/step - loss: 1.1933 - acc: 0.5690 - f1_score: 0.3761 - val_loss: 1.1387 - val_acc: 0.5921 - val_f1_score: 0.3305\n",
      "Epoch 8/30\n",
      "23409/23409 [==============================] - 57s 2ms/step - loss: 1.1234 - acc: 0.5912 - f1_score: 0.3713 - val_loss: 1.1323 - val_acc: 0.5944 - val_f1_score: 0.3703\n",
      "Epoch 9/30\n",
      "23409/23409 [==============================] - 56s 2ms/step - loss: 1.0166 - acc: 0.6383 - f1_score: 0.3611 - val_loss: 1.0690 - val_acc: 0.6271 - val_f1_score: 0.2531\n",
      "Epoch 10/30\n",
      "23409/23409 [==============================] - 57s 2ms/step - loss: 0.9548 - acc: 0.6632 - f1_score: 0.3543 - val_loss: 1.0433 - val_acc: 0.6378 - val_f1_score: 0.3675\n",
      "Epoch 11/30\n",
      "23409/23409 [==============================] - 56s 2ms/step - loss: 0.8819 - acc: 0.6912 - f1_score: 0.3651 - val_loss: 1.0069 - val_acc: 0.6524 - val_f1_score: 0.3837\n",
      "Epoch 12/30\n",
      "23409/23409 [==============================] - 56s 2ms/step - loss: 0.8128 - acc: 0.7146 - f1_score: 0.3510 - val_loss: 1.0473 - val_acc: 0.6724 - val_f1_score: 0.4024\n",
      "Epoch 13/30\n",
      "23409/23409 [==============================] - 58s 2ms/step - loss: 0.7542 - acc: 0.7375 - f1_score: 0.4144 - val_loss: 0.9693 - val_acc: 0.6747 - val_f1_score: 0.3764\n",
      "Epoch 14/30\n",
      "23409/23409 [==============================] - 56s 2ms/step - loss: 0.7090 - acc: 0.7541 - f1_score: 0.3832 - val_loss: 0.9639 - val_acc: 0.6940 - val_f1_score: 0.4179\n",
      "Epoch 15/30\n",
      "23409/23409 [==============================] - 61s 3ms/step - loss: 0.6484 - acc: 0.7774 - f1_score: 0.4207 - val_loss: 1.0478 - val_acc: 0.6847 - val_f1_score: 0.3662\n",
      "Epoch 16/30\n",
      "23409/23409 [==============================] - 64s 3ms/step - loss: 0.6185 - acc: 0.7843 - f1_score: 0.4083 - val_loss: 0.9894 - val_acc: 0.6951 - val_f1_score: 0.3751\n",
      "Epoch 17/30\n",
      "23409/23409 [==============================] - 61s 3ms/step - loss: 0.5508 - acc: 0.8108 - f1_score: 0.4294 - val_loss: 1.0190 - val_acc: 0.6859 - val_f1_score: 0.4640\n",
      "Epoch 18/30\n",
      "23409/23409 [==============================] - 63s 3ms/step - loss: 0.5035 - acc: 0.8245 - f1_score: 0.4549 - val_loss: 1.0283 - val_acc: 0.6947 - val_f1_score: 0.3932\n",
      "Epoch 19/30\n",
      "23409/23409 [==============================] - 60s 3ms/step - loss: 0.4650 - acc: 0.8410 - f1_score: 0.5035 - val_loss: 1.1150 - val_acc: 0.6874 - val_f1_score: 0.4724\n",
      "Epoch 20/30\n",
      "23409/23409 [==============================] - 61s 3ms/step - loss: 0.4229 - acc: 0.8550 - f1_score: 0.5374 - val_loss: 1.0838 - val_acc: 0.7024 - val_f1_score: 0.4598\n",
      "Epoch 21/30\n",
      "23409/23409 [==============================] - 59s 3ms/step - loss: 0.3809 - acc: 0.8693 - f1_score: 0.5302 - val_loss: 1.0981 - val_acc: 0.7017 - val_f1_score: 0.4678\n",
      "Epoch 22/30\n",
      "23409/23409 [==============================] - 62s 3ms/step - loss: 0.3463 - acc: 0.8806 - f1_score: 0.5162 - val_loss: 1.1949 - val_acc: 0.6867 - val_f1_score: 0.5048\n",
      "Epoch 23/30\n",
      "23409/23409 [==============================] - 62s 3ms/step - loss: 0.3634 - acc: 0.8748 - f1_score: 0.5803 - val_loss: 1.1891 - val_acc: 0.6886 - val_f1_score: 0.5184\n",
      "Epoch 24/30\n",
      "23409/23409 [==============================] - 62s 3ms/step - loss: 0.2970 - acc: 0.8960 - f1_score: 0.5457 - val_loss: 1.3541 - val_acc: 0.6797 - val_f1_score: 0.4839\n",
      "Epoch 25/30\n",
      "23409/23409 [==============================] - 62s 3ms/step - loss: 0.2763 - acc: 0.9030 - f1_score: 0.5707 - val_loss: 1.3205 - val_acc: 0.6974 - val_f1_score: 0.5115\n",
      "Epoch 26/30\n",
      "23409/23409 [==============================] - 65s 3ms/step - loss: 0.2639 - acc: 0.9079 - f1_score: 0.6015 - val_loss: 1.4089 - val_acc: 0.6963 - val_f1_score: 0.5282\n",
      "Epoch 27/30\n",
      "23409/23409 [==============================] - 65s 3ms/step - loss: 0.2138 - acc: 0.9269 - f1_score: 0.6037 - val_loss: 1.3684 - val_acc: 0.6947 - val_f1_score: 0.5054\n",
      "Epoch 28/30\n",
      "23409/23409 [==============================] - 65s 3ms/step - loss: 0.2038 - acc: 0.9288 - f1_score: 0.6104 - val_loss: 1.4803 - val_acc: 0.7063 - val_f1_score: 0.4787\n",
      "Epoch 29/30\n",
      "23409/23409 [==============================] - 64s 3ms/step - loss: 0.1770 - acc: 0.9387 - f1_score: 0.5994 - val_loss: 1.4918 - val_acc: 0.7051 - val_f1_score: 0.5156\n",
      "Epoch 30/30\n",
      "23409/23409 [==============================] - 65s 3ms/step - loss: 0.1541 - acc: 0.9463 - f1_score: 0.6439 - val_loss: 1.6772 - val_acc: 0.7001 - val_f1_score: 0.5011\n"
     ]
    }
   ],
   "source": [
    "model = originalModel(max_features, embedding_size, max_len, num_classes)\n",
    "model.compile(loss='categorical_crossentropy', optimizer='adam', metrics=['accuracy',f1_score])\n",
    "\n",
    "batch_size = 256\n",
    "epochs = 10\n",
    "history = model.fit(X_train, y_train, batch_size = batch_size, epochs = 30, validation_split = 0.1)"
   ]
  },
  {
   "cell_type": "code",
   "execution_count": 37,
   "metadata": {},
   "outputs": [
    {
     "name": "stdout",
     "output_type": "stream",
     "text": [
      "['acc', 'f1_score', 'loss', 'val_f1_score', 'val_acc', 'val_loss']\n"
     ]
    },
    {
     "data": {
      "image/png": "[encoded data removed]",
      "text/plain": [
       "<matplotlib.figure.Figure at 0x7f6268b7c910>"
      ]
     },
     "metadata": {},
     "output_type": "display_data"
    },
    {
     "data": {
      "image/png": "[encoded data removed]",
      "text/plain": [
       "<matplotlib.figure.Figure at 0x7f626f01fe10>"
      ]
     },
     "metadata": {},
     "output_type": "display_data"
    }
   ],
   "source": [
    "plotHistory(history)"
   ]
  },
  {
   "cell_type": "markdown",
   "metadata": {},
   "source": [
    "### Test set accuracy"
   ]
  },
  {
   "cell_type": "code",
   "execution_count": 32,
   "metadata": {},
   "outputs": [
    {
     "name": "stdout",
     "output_type": "stream",
     "text": [
      "[1.0314898933059855, 0.70013839768094865, 0.32392416223276399]\n"
     ]
    }
   ],
   "source": [
    "#loss, acc = model.evaluate(__X, __Y, verbose=0)\n",
    "print(model.evaluate(__X, __Y, verbose=0))\n",
    "\n",
    "#np.argmax(model.predict(__X),axis=1), _Y"
   ]
  },
  {
   "cell_type": "markdown",
   "metadata": {},
   "source": [
    "### Create the submission"
   ]
  },
  {
   "cell_type": "code",
   "execution_count": 41,
   "metadata": {},
   "outputs": [],
   "source": [
    "__pred = model.predict(X_test).argmax(axis=-1)"
   ]
  },
  {
   "cell_type": "code",
   "execution_count": 43,
   "metadata": {},
   "outputs": [
    {
     "name": "stdout",
     "output_type": "stream",
     "text": [
      "    label  count\n",
      "0       0     44\n",
      "1       1    250\n",
      "2       2    146\n",
      "3       3    313\n",
      "4       4    192\n",
      "5       5    185\n",
      "6       6    338\n",
      "7       7    639\n",
      "8       8    326\n",
      "9       9    115\n",
      "10     10    367\n",
      "11     11     85\n"
     ]
    },
    {
     "data": {
      "text/plain": [
       "<matplotlib.axes._subplots.AxesSubplot at 0x7f626f06b7d0>"
      ]
     },
     "execution_count": 43,
     "metadata": {},
     "output_type": "execute_result"
    },
    {
     "data": {
      "image/png": "[encoded data removed]",
      "text/plain": [
       "<matplotlib.figure.Figure at 0x7f626ebdc2d0>"
      ]
     },
     "metadata": {},
     "output_type": "display_data"
    }
   ],
   "source": [
    "import pandas as pd\n",
    "df = pd.DataFrame(__pred, columns=[\"label\"]).groupby([\"label\"]).size().to_frame(name = 'count').reset_index()\n",
    "print df\n",
    "df.plot(kind=\"bar\", x = \"label\")"
   ]
  },
  {
   "cell_type": "markdown",
   "metadata": {},
   "source": [
    "#### Same the predictions"
   ]
  },
  {
   "cell_type": "code",
   "execution_count": 49,
   "metadata": {},
   "outputs": [],
   "source": [
    "f = open('pred.txt', 'w')\n",
    "for item in __pred:\n",
    "  f.write(\"%s\\n\" % item)"
   ]
  },
  {
   "cell_type": "markdown",
   "metadata": {},
   "source": [
    "### 2. Original model without embedding layer (One hot encoding)"
   ]
  },
  {
   "cell_type": "code",
   "execution_count": 9,
   "metadata": {},
   "outputs": [],
   "source": [
    "x_train_encode = OneHotEncode().transform(X_train)\n",
    "x_test_encode = OneHotEncode().transform(X_test)"
   ]
  },
  {
   "cell_type": "code",
   "execution_count": 12,
   "metadata": {},
   "outputs": [],
   "source": [
    "def originalModelWithoutEmb(input_shape, num_classes):\n",
    "    \n",
    "    kernel_size = 5\n",
    "    filters = 64\n",
    "    pool_size = 4\n",
    "    lstm_output_size = 200\n",
    "    \n",
    "    model = Sequential()\n",
    "    #model.add(Embedding(max_features, embedding_size, input_length=maxlen))\n",
    "    #model.add(BatchNormalization())\n",
    "    #model.add(Dropout(0.20))\n",
    "    #model.add(Conv1D(filters=filters, kernel_size = kernel_size, padding='valid', activation='relu', strides=1))\n",
    "    model.add(Conv1D(filters= filters, kernel_size= kernel_size, padding='valid', activation='relu', strides=1, input_shape=input_shape))\n",
    "    model.add(MaxPooling1D(pool_size=pool_size))\n",
    "    model.add(Conv1D(filters=filters, kernel_size = 5, padding='valid', activation='relu', strides=1))\n",
    "    model.add(MaxPooling1D(pool_size=2))\n",
    "    model.add(Conv1D(filters=filters, kernel_size = 6, padding='valid', activation='relu', strides=1))\n",
    "    model.add(MaxPooling1D(pool_size=2))\n",
    "    model.add(Conv1D(filters=filters, kernel_size = 8, padding='valid', activation='relu', strides=1))\n",
    "    model.add(LSTM(lstm_output_size))\n",
    "    model.add(Dense(100))\n",
    "    model.add(Dense(50))\n",
    "    model.add(Dense(num_classes))\n",
    "    model.add(Activation('sigmoid'))\n",
    "    return model"
   ]
  },
  {
   "cell_type": "code",
   "execution_count": 13,
   "metadata": {},
   "outputs": [
    {
     "name": "stdout",
     "output_type": "stream",
     "text": [
      "Train on 23409 samples, validate on 2601 samples\n",
      "Epoch 1/10\n",
      "23409/23409 [==============================] - 42s 2ms/step - loss: 2.3535 - acc: 0.1582 - val_loss: 2.3456 - val_acc: 0.1499\n",
      "Epoch 2/10\n",
      "23409/23409 [==============================] - 42s 2ms/step - loss: 2.2555 - acc: 0.1828 - val_loss: 2.1574 - val_acc: 0.2103\n",
      "Epoch 3/10\n",
      "23409/23409 [==============================] - 39s 2ms/step - loss: 2.0688 - acc: 0.2314 - val_loss: 2.0158 - val_acc: 0.2280\n",
      "Epoch 4/10\n",
      "23409/23409 [==============================] - 41s 2ms/step - loss: 1.9423 - acc: 0.2707 - val_loss: 1.8965 - val_acc: 0.2730\n",
      "Epoch 5/10\n",
      "23409/23409 [==============================] - 40s 2ms/step - loss: 1.8724 - acc: 0.2845 - val_loss: 1.7777 - val_acc: 0.3337\n",
      "Epoch 6/10\n",
      "23409/23409 [==============================] - 36s 2ms/step - loss: 1.7020 - acc: 0.3627 - val_loss: 1.6120 - val_acc: 0.4229\n",
      "Epoch 7/10\n",
      "23409/23409 [==============================] - 36s 2ms/step - loss: 1.5369 - acc: 0.4371 - val_loss: 1.4957 - val_acc: 0.4648\n",
      "Epoch 8/10\n",
      "23409/23409 [==============================] - 36s 2ms/step - loss: 1.4268 - acc: 0.4752 - val_loss: 1.6034 - val_acc: 0.4371\n",
      "Epoch 9/10\n",
      "23409/23409 [==============================] - 37s 2ms/step - loss: 1.3542 - acc: 0.5084 - val_loss: 1.3730 - val_acc: 0.5148\n",
      "Epoch 10/10\n",
      "23409/23409 [==============================] - 36s 2ms/step - loss: 1.2918 - acc: 0.5315 - val_loss: 1.3379 - val_acc: 0.5225\n"
     ]
    }
   ],
   "source": [
    "model2 = originalModelWithoutEmb(x_train_encode[0].shape, num_classes)\n",
    "model2.compile(loss='categorical_crossentropy', optimizer='adam', metrics=['accuracy'])\n",
    "\n",
    "batch_size = 256 \n",
    "epochs = 10\n",
    "history = model2.fit(x_train_encode, y_train, batch_size = batch_size, epochs = epochs, validation_split = 0.1)"
   ]
  },
  {
   "cell_type": "code",
   "execution_count": 14,
   "metadata": {},
   "outputs": [
    {
     "name": "stdout",
     "output_type": "stream",
     "text": [
      "['acc', 'loss', 'val_acc', 'val_loss']\n"
     ]
    },
    {
     "data": {
      "image/png": "[encoded data removed]",
      "text/plain": [
       "<matplotlib.figure.Figure at 0x7fe6568a7ed0>"
      ]
     },
     "metadata": {},
     "output_type": "display_data"
    },
    {
     "data": {
      "image/png": "[encoded data removed]",
      "text/plain": [
       "<matplotlib.figure.Figure at 0x7fe6568e99d0>"
      ]
     },
     "metadata": {},
     "output_type": "display_data"
    }
   ],
   "source": [
    "plotHistory(history)"
   ]
  }
 ],
 "metadata": {
  "kernelspec": {
   "display_name": "Python 2",
   "language": "python",
   "name": "python2"
  },
  "language_info": {
   "codemirror_mode": {
    "name": "ipython",
    "version": 2
   },
   "file_extension": ".py",
   "mimetype": "text/x-python",
   "name": "python",
   "nbconvert_exporter": "python",
   "pygments_lexer": "ipython2",
   "version": "2.7.12"
  }
 },
 "nbformat": 4,
 "nbformat_minor": 2
}
